{
  "nbformat": 4,
  "nbformat_minor": 0,
  "metadata": {
    "colab": {
      "provenance": []
    },
    "kernelspec": {
      "name": "python3",
      "display_name": "Python 3"
    },
    "language_info": {
      "name": "python"
    },
    "gpuClass": "standard"
  },
  "cells": [
    {
      "cell_type": "markdown",
      "source": [
        "### Setup"
      ],
      "metadata": {
        "id": "yWvjc9je07zu"
      }
    },
    {
      "cell_type": "code",
      "source": [
        "from google.colab import drive\n",
        "drive.mount('/content/drive')"
      ],
      "metadata": {
        "colab": {
          "base_uri": "https://localhost:8080/"
        },
        "id": "HUWtvmjsiO2o",
        "outputId": "332cf4de-95b1-41ca-e9db-11e9fca8806d"
      },
      "execution_count": 1,
      "outputs": [
        {
          "output_type": "stream",
          "name": "stdout",
          "text": [
            "Mounted at /content/drive\n"
          ]
        }
      ]
    },
    {
      "cell_type": "code",
      "source": [
        "!pip install livelossplot"
      ],
      "metadata": {
        "id": "t_b5-OuS1Kol",
        "colab": {
          "base_uri": "https://localhost:8080/"
        },
        "outputId": "2a7ba4bf-b2f4-439c-bc9b-948671a4c4fc"
      },
      "execution_count": 3,
      "outputs": [
        {
          "output_type": "stream",
          "name": "stdout",
          "text": [
            "Looking in indexes: https://pypi.org/simple, https://us-python.pkg.dev/colab-wheels/public/simple/\n",
            "Collecting livelossplot\n",
            "  Downloading livelossplot-0.5.5-py3-none-any.whl (22 kB)\n",
            "Requirement already satisfied: bokeh in /usr/local/lib/python3.8/dist-packages (from livelossplot) (2.3.3)\n",
            "Requirement already satisfied: matplotlib in /usr/local/lib/python3.8/dist-packages (from livelossplot) (3.2.2)\n",
            "Requirement already satisfied: pillow>=7.1.0 in /usr/local/lib/python3.8/dist-packages (from bokeh->livelossplot) (7.1.2)\n",
            "Requirement already satisfied: numpy>=1.11.3 in /usr/local/lib/python3.8/dist-packages (from bokeh->livelossplot) (1.21.6)\n",
            "Requirement already satisfied: typing-extensions>=3.7.4 in /usr/local/lib/python3.8/dist-packages (from bokeh->livelossplot) (4.1.1)\n",
            "Requirement already satisfied: tornado>=5.1 in /usr/local/lib/python3.8/dist-packages (from bokeh->livelossplot) (6.0.4)\n",
            "Requirement already satisfied: Jinja2>=2.9 in /usr/local/lib/python3.8/dist-packages (from bokeh->livelossplot) (2.11.3)\n",
            "Requirement already satisfied: packaging>=16.8 in /usr/local/lib/python3.8/dist-packages (from bokeh->livelossplot) (21.3)\n",
            "Requirement already satisfied: python-dateutil>=2.1 in /usr/local/lib/python3.8/dist-packages (from bokeh->livelossplot) (2.8.2)\n",
            "Requirement already satisfied: PyYAML>=3.10 in /usr/local/lib/python3.8/dist-packages (from bokeh->livelossplot) (6.0)\n",
            "Requirement already satisfied: MarkupSafe>=0.23 in /usr/local/lib/python3.8/dist-packages (from Jinja2>=2.9->bokeh->livelossplot) (2.0.1)\n",
            "Requirement already satisfied: pyparsing!=3.0.5,>=2.0.2 in /usr/local/lib/python3.8/dist-packages (from packaging>=16.8->bokeh->livelossplot) (3.0.9)\n",
            "Requirement already satisfied: six>=1.5 in /usr/local/lib/python3.8/dist-packages (from python-dateutil>=2.1->bokeh->livelossplot) (1.15.0)\n",
            "Requirement already satisfied: kiwisolver>=1.0.1 in /usr/local/lib/python3.8/dist-packages (from matplotlib->livelossplot) (1.4.4)\n",
            "Requirement already satisfied: cycler>=0.10 in /usr/local/lib/python3.8/dist-packages (from matplotlib->livelossplot) (0.11.0)\n",
            "Installing collected packages: livelossplot\n",
            "Successfully installed livelossplot-0.5.5\n"
          ]
        }
      ]
    },
    {
      "cell_type": "markdown",
      "source": [
        "### Imports"
      ],
      "metadata": {
        "id": "F6Y6WStZ02zk"
      }
    },
    {
      "cell_type": "code",
      "execution_count": 4,
      "metadata": {
        "id": "z-EiSMsUTqEQ"
      },
      "outputs": [],
      "source": [
        "import numpy as np\n",
        "import pandas as pd\n",
        "\n",
        "import os\n",
        "import re\n",
        "from pathlib import Path\n",
        "import plotly.express as px\n",
        "\n",
        "import tensorflow as tf\n",
        "\n",
        "from tensorflow.keras.layers import Input, Flatten, Dense\n",
        "from tensorflow.keras.models import Model\n",
        "from tensorflow.keras.callbacks import ModelCheckpoint, EarlyStopping, TensorBoard, ReduceLROnPlateau, LearningRateScheduler\n",
        "\n",
        "import spacy\n",
        "from unicodedata import normalize\n",
        "\n",
        "#from transformers import AutoTokenizer, TFAutoModelForSequenceClassification\n",
        "from sklearn.model_selection import train_test_split\n",
        "\n",
        "#from livelossplot import PlotLossesKeras\n",
        "import joblib\n",
        "import json\n",
        "\n",
        "from livelossplot import PlotLossesKeras"
      ]
    },
    {
      "cell_type": "code",
      "source": [
        "train = pd.read_csv('/content/drive/MyDrive/CS895_CleanDataCode/train_substructures_mordred2.csv')\n",
        "#train = pd.read_csv('/content/drive/MyDrive/CS895_CleanDataCode/train_substructures_mordred.csv')\n",
        "test = pd.read_csv('/content/drive/MyDrive/CS895_CleanDataCode/test_substructures_mordred2.csv')"
      ],
      "metadata": {
        "id": "2L2S7Ij4VEND"
      },
      "execution_count": 41,
      "outputs": []
    },
    {
      "cell_type": "code",
      "source": [
        "test['label'].unique()"
      ],
      "metadata": {
        "colab": {
          "base_uri": "https://localhost:8080/"
        },
        "id": "cvdpsmmJVaWk",
        "outputId": "16c70439-ce6f-4547-b577-c548dc91f20e"
      },
      "execution_count": 74,
      "outputs": [
        {
          "output_type": "execute_result",
          "data": {
            "text/plain": [
              "array([0, 4, 1, 3, 2])"
            ]
          },
          "metadata": {},
          "execution_count": 74
        }
      ]
    },
    {
      "cell_type": "code",
      "source": [
        "train['label'].value_counts()"
      ],
      "metadata": {
        "colab": {
          "base_uri": "https://localhost:8080/"
        },
        "id": "2O7uBop9S-cl",
        "outputId": "59339a0a-5f3d-4e89-a293-1f771bfe87f9"
      },
      "execution_count": 100,
      "outputs": [
        {
          "output_type": "execute_result",
          "data": {
            "text/plain": [
              "0    8862\n",
              "4     631\n",
              "2     417\n",
              "1     241\n",
              "3      64\n",
              "Name: label, dtype: int64"
            ]
          },
          "metadata": {},
          "execution_count": 100
        }
      ]
    },
    {
      "cell_type": "code",
      "source": [
        "train.head()"
      ],
      "metadata": {
        "colab": {
          "base_uri": "https://localhost:8080/",
          "height": 629
        },
        "id": "6JRKh6rPVd_0",
        "outputId": "5ba09886-61cb-451b-bd16-a9c76ee00d2c"
      },
      "execution_count": 43,
      "outputs": [
        {
          "output_type": "execute_result",
          "data": {
            "text/plain": [
              "                                                text            drug1  \\\n",
              "0  The majority of patients in RA clinical studie...              MTX   \n",
              "1  There were no reports of skeletal myopathy in ...      simvastatin   \n",
              "2  DRUG1: Concomitant administration of DRUG2 (6 ...         Warfarin   \n",
              "3  Before using this medication, tell your doctor...  aminoglycosides   \n",
              "4  DRUG1: Reports indicate that DRUG2 levels may ...      Cyclosporin   \n",
              "\n",
              "          drug2    ddi type  label  \\\n",
              "0  azathioprine  False  Neg      0   \n",
              "1    daptomycin  False  Neg      0   \n",
              "2    daptomycin  False  Neg      0   \n",
              "3  cyclosporine  False  Neg      0   \n",
              "4  cyclosporine  False  Neg      0   \n",
              "\n",
              "                                              smile1  \\\n",
              "0                    CC(C)[C@@H]1CC[C@@H](C)C[C@H]1O   \n",
              "1  CCC(C)(C)C(=O)O[C@H]1C[C@H](C=C2[C@H]1[C@H]([C...   \n",
              "2       CC(=O)CC(C1=CC=CC=C1)C2=C(C3=CC=CC=C3OC2=O)O   \n",
              "3                                OC(=O)CCCCCCCC(O)=O   \n",
              "4  CC[C@@H]1NC(=O)[C@H]([C@H](O)[C@H](C)C\\C=C\\C)N...   \n",
              "\n",
              "                                              smile2  pos1  pos2  ...  \\\n",
              "0         CN1C=NC(=C1SC2=NC=NC3=C2NC=N3)[N+](=O)[O-]    19    23  ...   \n",
              "1  CCCCCCCCCC(=O)N[C@@H](CC1=CNC2=C1C=CC=C2)C(=O)...    20    26  ...   \n",
              "2  CCCCCCCCCC(=O)N[C@@H](CC1=CNC2=C1C=CC=C2)C(=O)...     0     4  ...   \n",
              "3  CC[C@H]1C(=O)N(CC(=O)N([C@H](C(=O)N[C@H](C(=O)...    20    25  ...   \n",
              "4  CC[C@H]1C(=O)N(CC(=O)N([C@H](C(=O)N[C@H](C(=O)...     0     4  ...   \n",
              "\n",
              "     JGI5.2    JGI5.3      JGI6    JGI6.1     JGI7   JGI7.1    JGI9.2  \\\n",
              "0  0.024288  0.024288  0.021341  0.021341  0.01686  0.01686  0.009808   \n",
              "1  0.024288  0.024288  0.021341  0.021341  0.01686  0.01686  0.009808   \n",
              "2  0.024288  0.024288  0.021341  0.021341  0.01686  0.01686  0.009808   \n",
              "3  0.024288  0.024288  0.021341  0.021341  0.01686  0.01686  0.009808   \n",
              "4  0.024288  0.024288  0.021341  0.021341  0.01686  0.01686  0.009808   \n",
              "\n",
              "     JGI9.3    WPath  WPath.1  \n",
              "0  0.009808  37337.0  37337.0  \n",
              "1  0.009808  37337.0  37337.0  \n",
              "2  0.009808  37337.0  37337.0  \n",
              "3  0.009808  37337.0  37337.0  \n",
              "4  0.009808  37337.0  37337.0  \n",
              "\n",
              "[5 rows x 206 columns]"
            ],
            "text/html": [
              "\n",
              "  <div id=\"df-742d446a-2fde-4427-98ff-5cc0f738d852\">\n",
              "    <div class=\"colab-df-container\">\n",
              "      <div>\n",
              "<style scoped>\n",
              "    .dataframe tbody tr th:only-of-type {\n",
              "        vertical-align: middle;\n",
              "    }\n",
              "\n",
              "    .dataframe tbody tr th {\n",
              "        vertical-align: top;\n",
              "    }\n",
              "\n",
              "    .dataframe thead th {\n",
              "        text-align: right;\n",
              "    }\n",
              "</style>\n",
              "<table border=\"1\" class=\"dataframe\">\n",
              "  <thead>\n",
              "    <tr style=\"text-align: right;\">\n",
              "      <th></th>\n",
              "      <th>text</th>\n",
              "      <th>drug1</th>\n",
              "      <th>drug2</th>\n",
              "      <th>ddi</th>\n",
              "      <th>type</th>\n",
              "      <th>label</th>\n",
              "      <th>smile1</th>\n",
              "      <th>smile2</th>\n",
              "      <th>pos1</th>\n",
              "      <th>pos2</th>\n",
              "      <th>...</th>\n",
              "      <th>JGI5.2</th>\n",
              "      <th>JGI5.3</th>\n",
              "      <th>JGI6</th>\n",
              "      <th>JGI6.1</th>\n",
              "      <th>JGI7</th>\n",
              "      <th>JGI7.1</th>\n",
              "      <th>JGI9.2</th>\n",
              "      <th>JGI9.3</th>\n",
              "      <th>WPath</th>\n",
              "      <th>WPath.1</th>\n",
              "    </tr>\n",
              "  </thead>\n",
              "  <tbody>\n",
              "    <tr>\n",
              "      <th>0</th>\n",
              "      <td>The majority of patients in RA clinical studie...</td>\n",
              "      <td>MTX</td>\n",
              "      <td>azathioprine</td>\n",
              "      <td>False</td>\n",
              "      <td>Neg</td>\n",
              "      <td>0</td>\n",
              "      <td>CC(C)[C@@H]1CC[C@@H](C)C[C@H]1O</td>\n",
              "      <td>CN1C=NC(=C1SC2=NC=NC3=C2NC=N3)[N+](=O)[O-]</td>\n",
              "      <td>19</td>\n",
              "      <td>23</td>\n",
              "      <td>...</td>\n",
              "      <td>0.024288</td>\n",
              "      <td>0.024288</td>\n",
              "      <td>0.021341</td>\n",
              "      <td>0.021341</td>\n",
              "      <td>0.01686</td>\n",
              "      <td>0.01686</td>\n",
              "      <td>0.009808</td>\n",
              "      <td>0.009808</td>\n",
              "      <td>37337.0</td>\n",
              "      <td>37337.0</td>\n",
              "    </tr>\n",
              "    <tr>\n",
              "      <th>1</th>\n",
              "      <td>There were no reports of skeletal myopathy in ...</td>\n",
              "      <td>simvastatin</td>\n",
              "      <td>daptomycin</td>\n",
              "      <td>False</td>\n",
              "      <td>Neg</td>\n",
              "      <td>0</td>\n",
              "      <td>CCC(C)(C)C(=O)O[C@H]1C[C@H](C=C2[C@H]1[C@H]([C...</td>\n",
              "      <td>CCCCCCCCCC(=O)N[C@@H](CC1=CNC2=C1C=CC=C2)C(=O)...</td>\n",
              "      <td>20</td>\n",
              "      <td>26</td>\n",
              "      <td>...</td>\n",
              "      <td>0.024288</td>\n",
              "      <td>0.024288</td>\n",
              "      <td>0.021341</td>\n",
              "      <td>0.021341</td>\n",
              "      <td>0.01686</td>\n",
              "      <td>0.01686</td>\n",
              "      <td>0.009808</td>\n",
              "      <td>0.009808</td>\n",
              "      <td>37337.0</td>\n",
              "      <td>37337.0</td>\n",
              "    </tr>\n",
              "    <tr>\n",
              "      <th>2</th>\n",
              "      <td>DRUG1: Concomitant administration of DRUG2 (6 ...</td>\n",
              "      <td>Warfarin</td>\n",
              "      <td>daptomycin</td>\n",
              "      <td>False</td>\n",
              "      <td>Neg</td>\n",
              "      <td>0</td>\n",
              "      <td>CC(=O)CC(C1=CC=CC=C1)C2=C(C3=CC=CC=C3OC2=O)O</td>\n",
              "      <td>CCCCCCCCCC(=O)N[C@@H](CC1=CNC2=C1C=CC=C2)C(=O)...</td>\n",
              "      <td>0</td>\n",
              "      <td>4</td>\n",
              "      <td>...</td>\n",
              "      <td>0.024288</td>\n",
              "      <td>0.024288</td>\n",
              "      <td>0.021341</td>\n",
              "      <td>0.021341</td>\n",
              "      <td>0.01686</td>\n",
              "      <td>0.01686</td>\n",
              "      <td>0.009808</td>\n",
              "      <td>0.009808</td>\n",
              "      <td>37337.0</td>\n",
              "      <td>37337.0</td>\n",
              "    </tr>\n",
              "    <tr>\n",
              "      <th>3</th>\n",
              "      <td>Before using this medication, tell your doctor...</td>\n",
              "      <td>aminoglycosides</td>\n",
              "      <td>cyclosporine</td>\n",
              "      <td>False</td>\n",
              "      <td>Neg</td>\n",
              "      <td>0</td>\n",
              "      <td>OC(=O)CCCCCCCC(O)=O</td>\n",
              "      <td>CC[C@H]1C(=O)N(CC(=O)N([C@H](C(=O)N[C@H](C(=O)...</td>\n",
              "      <td>20</td>\n",
              "      <td>25</td>\n",
              "      <td>...</td>\n",
              "      <td>0.024288</td>\n",
              "      <td>0.024288</td>\n",
              "      <td>0.021341</td>\n",
              "      <td>0.021341</td>\n",
              "      <td>0.01686</td>\n",
              "      <td>0.01686</td>\n",
              "      <td>0.009808</td>\n",
              "      <td>0.009808</td>\n",
              "      <td>37337.0</td>\n",
              "      <td>37337.0</td>\n",
              "    </tr>\n",
              "    <tr>\n",
              "      <th>4</th>\n",
              "      <td>DRUG1: Reports indicate that DRUG2 levels may ...</td>\n",
              "      <td>Cyclosporin</td>\n",
              "      <td>cyclosporine</td>\n",
              "      <td>False</td>\n",
              "      <td>Neg</td>\n",
              "      <td>0</td>\n",
              "      <td>CC[C@@H]1NC(=O)[C@H]([C@H](O)[C@H](C)C\\C=C\\C)N...</td>\n",
              "      <td>CC[C@H]1C(=O)N(CC(=O)N([C@H](C(=O)N[C@H](C(=O)...</td>\n",
              "      <td>0</td>\n",
              "      <td>4</td>\n",
              "      <td>...</td>\n",
              "      <td>0.024288</td>\n",
              "      <td>0.024288</td>\n",
              "      <td>0.021341</td>\n",
              "      <td>0.021341</td>\n",
              "      <td>0.01686</td>\n",
              "      <td>0.01686</td>\n",
              "      <td>0.009808</td>\n",
              "      <td>0.009808</td>\n",
              "      <td>37337.0</td>\n",
              "      <td>37337.0</td>\n",
              "    </tr>\n",
              "  </tbody>\n",
              "</table>\n",
              "<p>5 rows × 206 columns</p>\n",
              "</div>\n",
              "      <button class=\"colab-df-convert\" onclick=\"convertToInteractive('df-742d446a-2fde-4427-98ff-5cc0f738d852')\"\n",
              "              title=\"Convert this dataframe to an interactive table.\"\n",
              "              style=\"display:none;\">\n",
              "        \n",
              "  <svg xmlns=\"http://www.w3.org/2000/svg\" height=\"24px\"viewBox=\"0 0 24 24\"\n",
              "       width=\"24px\">\n",
              "    <path d=\"M0 0h24v24H0V0z\" fill=\"none\"/>\n",
              "    <path d=\"M18.56 5.44l.94 2.06.94-2.06 2.06-.94-2.06-.94-.94-2.06-.94 2.06-2.06.94zm-11 1L8.5 8.5l.94-2.06 2.06-.94-2.06-.94L8.5 2.5l-.94 2.06-2.06.94zm10 10l.94 2.06.94-2.06 2.06-.94-2.06-.94-.94-2.06-.94 2.06-2.06.94z\"/><path d=\"M17.41 7.96l-1.37-1.37c-.4-.4-.92-.59-1.43-.59-.52 0-1.04.2-1.43.59L10.3 9.45l-7.72 7.72c-.78.78-.78 2.05 0 2.83L4 21.41c.39.39.9.59 1.41.59.51 0 1.02-.2 1.41-.59l7.78-7.78 2.81-2.81c.8-.78.8-2.07 0-2.86zM5.41 20L4 18.59l7.72-7.72 1.47 1.35L5.41 20z\"/>\n",
              "  </svg>\n",
              "      </button>\n",
              "      \n",
              "  <style>\n",
              "    .colab-df-container {\n",
              "      display:flex;\n",
              "      flex-wrap:wrap;\n",
              "      gap: 12px;\n",
              "    }\n",
              "\n",
              "    .colab-df-convert {\n",
              "      background-color: #E8F0FE;\n",
              "      border: none;\n",
              "      border-radius: 50%;\n",
              "      cursor: pointer;\n",
              "      display: none;\n",
              "      fill: #1967D2;\n",
              "      height: 32px;\n",
              "      padding: 0 0 0 0;\n",
              "      width: 32px;\n",
              "    }\n",
              "\n",
              "    .colab-df-convert:hover {\n",
              "      background-color: #E2EBFA;\n",
              "      box-shadow: 0px 1px 2px rgba(60, 64, 67, 0.3), 0px 1px 3px 1px rgba(60, 64, 67, 0.15);\n",
              "      fill: #174EA6;\n",
              "    }\n",
              "\n",
              "    [theme=dark] .colab-df-convert {\n",
              "      background-color: #3B4455;\n",
              "      fill: #D2E3FC;\n",
              "    }\n",
              "\n",
              "    [theme=dark] .colab-df-convert:hover {\n",
              "      background-color: #434B5C;\n",
              "      box-shadow: 0px 1px 3px 1px rgba(0, 0, 0, 0.15);\n",
              "      filter: drop-shadow(0px 1px 2px rgba(0, 0, 0, 0.3));\n",
              "      fill: #FFFFFF;\n",
              "    }\n",
              "  </style>\n",
              "\n",
              "      <script>\n",
              "        const buttonEl =\n",
              "          document.querySelector('#df-742d446a-2fde-4427-98ff-5cc0f738d852 button.colab-df-convert');\n",
              "        buttonEl.style.display =\n",
              "          google.colab.kernel.accessAllowed ? 'block' : 'none';\n",
              "\n",
              "        async function convertToInteractive(key) {\n",
              "          const element = document.querySelector('#df-742d446a-2fde-4427-98ff-5cc0f738d852');\n",
              "          const dataTable =\n",
              "            await google.colab.kernel.invokeFunction('convertToInteractive',\n",
              "                                                     [key], {});\n",
              "          if (!dataTable) return;\n",
              "\n",
              "          const docLinkHtml = 'Like what you see? Visit the ' +\n",
              "            '<a target=\"_blank\" href=https://colab.research.google.com/notebooks/data_table.ipynb>data table notebook</a>'\n",
              "            + ' to learn more about interactive tables.';\n",
              "          element.innerHTML = '';\n",
              "          dataTable['output_type'] = 'display_data';\n",
              "          await google.colab.output.renderOutput(dataTable, element);\n",
              "          const docLink = document.createElement('div');\n",
              "          docLink.innerHTML = docLinkHtml;\n",
              "          element.appendChild(docLink);\n",
              "        }\n",
              "      </script>\n",
              "    </div>\n",
              "  </div>\n",
              "  "
            ]
          },
          "metadata": {},
          "execution_count": 43
        }
      ]
    },
    {
      "cell_type": "code",
      "source": [
        "train_df = train.drop(['text','drug1','drug2','smile1','smile2','ddi','type','pos1','pos2'], axis=1)\n",
        "test_df = test.drop(['text','drug1','drug2','smile1','smile2','ddi','type','pos1','pos2'], axis=1)\n"
      ],
      "metadata": {
        "id": "F0ugD7n7WSVv"
      },
      "execution_count": 48,
      "outputs": []
    },
    {
      "cell_type": "code",
      "source": [
        "#test_df = test[['drug1_id','drug2_id','drug1_substructure','drug2_substructure','label']]"
      ],
      "metadata": {
        "id": "AgD3GPwHubx1"
      },
      "execution_count": null,
      "outputs": []
    },
    {
      "cell_type": "code",
      "source": [
        "df = pd.concat([train_df, test_df], axis=0)\n",
        "#df = train_df.copy()"
      ],
      "metadata": {
        "id": "ZdOPmDYg4Wyk"
      },
      "execution_count": 49,
      "outputs": []
    },
    {
      "cell_type": "code",
      "source": [
        "df[\"drug1_substructure\"] = df[\"drug1_substructure\"].apply(lambda x: list(map(int, x.split(\", \"))))\n",
        "df[\"drug2_substructure\"] = df[\"drug2_substructure\"].apply(lambda x: list(map(int, x.split(\", \"))))"
      ],
      "metadata": {
        "id": "WicuHv9YWy54"
      },
      "execution_count": 50,
      "outputs": []
    },
    {
      "cell_type": "markdown",
      "source": [
        "### Padding"
      ],
      "metadata": {
        "id": "nDll6prZrCZl"
      }
    },
    {
      "cell_type": "code",
      "source": [
        "def padding(column):\n",
        "\n",
        "  length = max([len(x) for x in column])\n",
        "  padded_val =[]\n",
        "\n",
        "  for val in column:\n",
        "\n",
        "    if len(val) >= length:\n",
        "      val = val[0:(length-1)]\n",
        "    \n",
        "    val[len(val): length] = [-1] * (length - len(val))\n",
        "\n",
        "    padded_val.append(val)\n",
        "  \n",
        "  return padded_val"
      ],
      "metadata": {
        "id": "tLaXUxaJrEuR"
      },
      "execution_count": 51,
      "outputs": []
    },
    {
      "cell_type": "code",
      "source": [
        "df[\"drug1_substructure\"] = padding(df[\"drug1_substructure\"])\n",
        "df[\"drug2_substructure\"] = padding(df[\"drug2_substructure\"])"
      ],
      "metadata": {
        "id": "fbsPinK1tFIk"
      },
      "execution_count": 52,
      "outputs": []
    },
    {
      "cell_type": "code",
      "source": [
        "# length = max([len(x) for x in train_df[\"drug2_substructure\"]])\n",
        "# for item in train_df[\"drug2_substructure\"]:\n",
        "#   if len(item) == length:\n",
        "#     print(item)"
      ],
      "metadata": {
        "id": "XTKRwoPXtNWI"
      },
      "execution_count": null,
      "outputs": []
    },
    {
      "cell_type": "markdown",
      "source": [
        "### Taking X and Y"
      ],
      "metadata": {
        "id": "CEluCV-4vDz0"
      }
    },
    {
      "cell_type": "code",
      "source": [
        "X = df.drop(['label'], axis=1)\n",
        "y = df[\"label\"].values"
      ],
      "metadata": {
        "id": "WD7MWioZuwZF"
      },
      "execution_count": 53,
      "outputs": []
    },
    {
      "cell_type": "code",
      "source": [
        "X.columns"
      ],
      "metadata": {
        "colab": {
          "base_uri": "https://localhost:8080/"
        },
        "id": "kGjhxqHK4DU6",
        "outputId": "5e50eb19-b6a3-48fd-900f-c578c80a0cc1"
      },
      "execution_count": 66,
      "outputs": [
        {
          "output_type": "execute_result",
          "data": {
            "text/plain": [
              "Index(['drug1_id', 'drug2_id', 'drug1_substructure', 'drug2_substructure',\n",
              "       'AATS0dv', 'AATS0dv.1', 'AATS0d', 'AATS0d.1', 'ATSC4dv', 'ATSC4dv.1',\n",
              "       ...\n",
              "       'JGI5.2', 'JGI5.3', 'JGI6', 'JGI6.1', 'JGI7', 'JGI7.1', 'JGI9.2',\n",
              "       'JGI9.3', 'WPath', 'WPath.1'],\n",
              "      dtype='object', length=196)"
            ]
          },
          "metadata": {},
          "execution_count": 66
        }
      ]
    },
    {
      "cell_type": "code",
      "source": [
        "y"
      ],
      "metadata": {
        "colab": {
          "base_uri": "https://localhost:8080/"
        },
        "id": "c6HHJ__34K62",
        "outputId": "e101bd1f-1dc7-4368-d131-9843175fc56d"
      },
      "execution_count": 67,
      "outputs": [
        {
          "output_type": "execute_result",
          "data": {
            "text/plain": [
              "array([0, 0, 0, ..., 4, 1, 4])"
            ]
          },
          "metadata": {},
          "execution_count": 67
        }
      ]
    },
    {
      "cell_type": "markdown",
      "source": [
        "### Splitting Data into Train/Test"
      ],
      "metadata": {
        "id": "Y-AMiyQR4HFX"
      }
    },
    {
      "cell_type": "code",
      "source": [
        "X_train, X_test, y_train, y_test = train_test_split(X, y, test_size=0.2, random_state=42, shuffle=True, stratify=y)"
      ],
      "metadata": {
        "id": "ZIuLR4Nw4Gfg"
      },
      "execution_count": 54,
      "outputs": []
    },
    {
      "cell_type": "markdown",
      "source": [
        "### Unzipping X"
      ],
      "metadata": {
        "id": "PxW8wLbsvmQC"
      }
    },
    {
      "cell_type": "code",
      "source": [
        "unzip_x = lambda x: [np.vstack(x[\"drug1_substructure\"]), np.vstack(x[\"drug2_substructure\"])]\n",
        "\n",
        "X_train, X_test = unzip_x(X_train), unzip_x(X_test)"
      ],
      "metadata": {
        "id": "u0cWa8CgveCN"
      },
      "execution_count": 55,
      "outputs": []
    },
    {
      "cell_type": "code",
      "source": [
        "drug1_length, drug2_length = len(X_train[0][0]), len(X_train[1][0])"
      ],
      "metadata": {
        "id": "V_lU0L9P0J10"
      },
      "execution_count": 56,
      "outputs": []
    },
    {
      "cell_type": "markdown",
      "source": [
        "### Model Building"
      ],
      "metadata": {
        "id": "6SeFWIIVwOSb"
      }
    },
    {
      "cell_type": "code",
      "source": [
        "def build_model(targets, drug1_length, drug2_length):\n",
        "\n",
        "    # Loading the pre-trained Resnet model\n",
        "    \n",
        "    drug1_input = tf.keras.layers.Input(shape=drug1_length, name=\"input_drug1_Layer\")\n",
        "    \n",
        "    drug2_input = tf.keras.layers.Input(shape=drug2_length, name=\"input_drug2_Layer\")\n",
        "\n",
        "    # Concat the results\n",
        "\n",
        "    concat_vec = tf.keras.layers.concatenate([drug1_input, drug2_input], name=\"Concat\")\n",
        "\n",
        "\n",
        "    # x = tf.concat([x1, global_average_layer], axis=-1, name=\"Concat\")\n",
        "\n",
        "    # x = tf.keras.layers.Reshape(target_shape=((1, x.shape) + (1,)), name=\"Reshaping\")(x)\n",
        "    expanded_concat = tf.keras.layers.Reshape((concat_vec.shape[1], 1))(concat_vec)\n",
        "\n",
        "    # print(expanded_concat)\n",
        "\n",
        "    # # Encoder Layer\n",
        "    x = tf.keras.layers.LSTM(128, return_sequences=True, return_state=True)(expanded_concat)\n",
        "    x = tf.keras.layers.LSTM(128, return_sequences=True, return_state=True)(x)\n",
        "\n",
        "    atten = tf.keras.layers.Attention()(x)\n",
        "\n",
        "    dense = tf.keras.layers.Reshape(target_shape=(-1, 1))(atten)\n",
        "\n",
        "    dense = tf.keras.layers.Flatten()(dense)\n",
        "\n",
        "    print(dense.shape)\n",
        "\n",
        "    # Output layer\n",
        "    units = len(np.unique(targets))\n",
        "\n",
        "    if units > 2:\n",
        "        activation = \"softmax\"\n",
        "        loss = \"sparse_categorical_crossentropy\"\n",
        "\n",
        "    else:\n",
        "        activation = \"sigmoid\"\n",
        "        loss = \"binary_crossentropy\"\n",
        "        units = units - 1\n",
        "\n",
        "    outputs = Dense(units=units, activation=activation)(dense)\n",
        "\n",
        "    print(outputs.shape)\n",
        "\n",
        "    model = Model(inputs=[drug1_input, drug2_input], outputs=outputs)\n",
        "\n",
        "    # Compiling the model\n",
        "    model.compile(optimizer=\"adam\", loss=loss, metrics=[\"accuracy\"])\n",
        "\n",
        "    # Model Architecture Export\n",
        "    tf.keras.utils.plot_model(model, to_file='model.png', show_shapes=True, \n",
        "                            show_dtype=True, show_layer_names=True, rankdir='TB',\n",
        "                            expand_nested=True, dpi=300, layer_range=None, \n",
        "                            show_layer_activations=True)\n",
        "\n",
        "\n",
        "    return model"
      ],
      "metadata": {
        "id": "BXBNZAogwPm_"
      },
      "execution_count": 57,
      "outputs": []
    },
    {
      "cell_type": "code",
      "source": [
        "model = build_model(y_train, drug1_length, drug2_length)"
      ],
      "metadata": {
        "colab": {
          "base_uri": "https://localhost:8080/"
        },
        "id": "Pfr3vFWSzjGC",
        "outputId": "f124cc67-9b96-44dc-a256-f1ca57067079"
      },
      "execution_count": 58,
      "outputs": [
        {
          "output_type": "stream",
          "name": "stdout",
          "text": [
            "(None, 49024)\n",
            "(None, 5)\n"
          ]
        }
      ]
    },
    {
      "cell_type": "code",
      "source": [
        "model.summary()"
      ],
      "metadata": {
        "colab": {
          "base_uri": "https://localhost:8080/"
        },
        "id": "v53uOVky0djT",
        "outputId": "f6b36728-4362-4afa-fcbc-7538fe53e32f"
      },
      "execution_count": 59,
      "outputs": [
        {
          "output_type": "stream",
          "name": "stdout",
          "text": [
            "Model: \"model_1\"\n",
            "__________________________________________________________________________________________________\n",
            " Layer (type)                   Output Shape         Param #     Connected to                     \n",
            "==================================================================================================\n",
            " input_drug1_Layer (InputLayer)  [(None, 191)]       0           []                               \n",
            "                                                                                                  \n",
            " input_drug2_Layer (InputLayer)  [(None, 192)]       0           []                               \n",
            "                                                                                                  \n",
            " Concat (Concatenate)           (None, 383)          0           ['input_drug1_Layer[0][0]',      \n",
            "                                                                  'input_drug2_Layer[0][0]']      \n",
            "                                                                                                  \n",
            " reshape_2 (Reshape)            (None, 383, 1)       0           ['Concat[0][0]']                 \n",
            "                                                                                                  \n",
            " lstm_2 (LSTM)                  [(None, 383, 128),   66560       ['reshape_2[0][0]']              \n",
            "                                 (None, 128),                                                     \n",
            "                                 (None, 128)]                                                     \n",
            "                                                                                                  \n",
            " lstm_3 (LSTM)                  [(None, 383, 128),   131584      ['lstm_2[0][0]',                 \n",
            "                                 (None, 128),                     'lstm_2[0][1]',                 \n",
            "                                 (None, 128)]                     'lstm_2[0][2]']                 \n",
            "                                                                                                  \n",
            " attention_1 (Attention)        (None, 383, 128)     0           ['lstm_3[0][0]',                 \n",
            "                                                                  'lstm_3[0][1]',                 \n",
            "                                                                  'lstm_3[0][2]']                 \n",
            "                                                                                                  \n",
            " reshape_3 (Reshape)            (None, 49024, 1)     0           ['attention_1[0][0]']            \n",
            "                                                                                                  \n",
            " flatten_1 (Flatten)            (None, 49024)        0           ['reshape_3[0][0]']              \n",
            "                                                                                                  \n",
            " dense_1 (Dense)                (None, 5)            245125      ['flatten_1[0][0]']              \n",
            "                                                                                                  \n",
            "==================================================================================================\n",
            "Total params: 443,269\n",
            "Trainable params: 443,269\n",
            "Non-trainable params: 0\n",
            "__________________________________________________________________________________________________\n"
          ]
        }
      ]
    },
    {
      "cell_type": "code",
      "source": [
        "def callbacks() -> list:\n",
        "\n",
        "    run_name = \"run 1\"\n",
        "    save_path = Path(\"/content/drive/MyDrive/CS895_CleanDataCode/models/onlytrain\")\n",
        "    os.makedirs(save_path/\"logs\", exist_ok=True)\n",
        "    \n",
        "    checkpoint = ModelCheckpoint(save_path, monitor=\"val_loss\", save_best_only=True, \n",
        "                                                    verbose=1)\n",
        "\n",
        "    earlystopping = EarlyStopping(monitor=\"val_loss\", verbose=1, restore_best_weights = True,\n",
        "                                                    patience=5)\n",
        "\n",
        "    logger = TensorBoard(save_path/\"logs\"/run_name, histogram_freq=2, write_graph=True, write_images=True)\n",
        "\n",
        "    lr = ReduceLROnPlateau(monitor=\"val_loss\", factor=0.1, patience=2, verbose=1,\n",
        "                                         min_delta=0.0001, cooldown=0, min_lr=0)\n",
        "    \n",
        "    return [checkpoint, earlystopping, lr, logger, PlotLossesKeras()]"
      ],
      "metadata": {
        "id": "fhKuu3iy0OMO"
      },
      "execution_count": 60,
      "outputs": []
    },
    {
      "cell_type": "markdown",
      "source": [
        "### Model Training"
      ],
      "metadata": {
        "id": "Uj7Bb-oX2PK0"
      }
    },
    {
      "cell_type": "code",
      "source": [
        "history = model.fit(X_train, y_train, validation_data=(X_test, y_test), epochs=20, batch_size=32, callbacks=callbacks())"
      ],
      "metadata": {
        "colab": {
          "base_uri": "https://localhost:8080/",
          "height": 1000
        },
        "id": "aeOP7llo2II6",
        "outputId": "77356592-3761-417d-9e64-a04c4d2a52ce"
      },
      "execution_count": 68,
      "outputs": [
        {
          "output_type": "display_data",
          "data": {
            "text/plain": [
              "<Figure size 864x864 with 4 Axes>"
            ],
            "image/png": "[encoded data removed]"
          },
          "metadata": {
            "needs_background": "light"
          }
        },
        {
          "output_type": "stream",
          "name": "stdout",
          "text": [
            "accuracy\n",
            "\ttraining         \t (min:    0.861, max:    0.861, cur:    0.861)\n",
            "\tvalidation       \t (min:    0.861, max:    0.861, cur:    0.861)\n",
            "Loss\n",
            "\ttraining         \t (min:    0.568, max:    0.583, cur:    0.568)\n",
            "\tvalidation       \t (min:    0.569, max:    0.590, cur:    0.569)\n",
            "lr\n",
            "\tlr               \t (min:    0.000, max:    0.001, cur:    0.000)\n",
            "\b\b\b\b\b\b\b\b\b\b\b\b\b\b\b\b\b\b\b\b\b\b\b\b\b\b\b\b\b\b\b\b\b\b\b\b\b\b\b\b\b\b\b\b\b\b\b\b\b\b\b\b\b\b\b\b\b\b\b\b\b\b\b\b\b\b\b\b\b\b\b\b\b\b\b\b\b\b\b\b\b\b\b\b\r350/350 [==============================] - 341s 974ms/step - loss: 0.5676 - accuracy: 0.8612 - val_loss: 0.5694 - val_accuracy: 0.8611 - lr: 1.0000e-06\n"
          ]
        }
      ]
    },
    {
      "cell_type": "markdown",
      "source": [
        "### Model Prediction"
      ],
      "metadata": {
        "id": "Cm7T307nuwu7"
      }
    },
    {
      "cell_type": "code",
      "source": [
        "loaded_model = tf.keras.models.load_model(\"/content/drive/MyDrive/CS895_CleanDataCode/models/onlytrain\")"
      ],
      "metadata": {
        "id": "jHR6jFh3i4M8"
      },
      "execution_count": 69,
      "outputs": []
    },
    {
      "cell_type": "code",
      "source": [
        "y_pred_class = model.predict(X_test)"
      ],
      "metadata": {
        "colab": {
          "base_uri": "https://localhost:8080/"
        },
        "id": "HGVKQKsEviZK",
        "outputId": "60563dd1-3e61-447f-f527-e8084d8c14de"
      },
      "execution_count": 94,
      "outputs": [
        {
          "output_type": "stream",
          "name": "stdout",
          "text": [
            "88/88 [==============================] - 27s 279ms/step\n"
          ]
        }
      ]
    },
    {
      "cell_type": "code",
      "source": [
        "#pred = model.predict(padded)\n",
        "y_pred_class"
      ],
      "metadata": {
        "colab": {
          "base_uri": "https://localhost:8080/"
        },
        "id": "UndeK-rgRy48",
        "outputId": "29cd9497-db8b-4364-8e04-b0b2f84f8fcf"
      },
      "execution_count": 99,
      "outputs": [
        {
          "output_type": "execute_result",
          "data": {
            "text/plain": [
              "array([[0.8618357 , 0.02672311, 0.0415276 , 0.00800255, 0.06191115],\n",
              "       [0.8618357 , 0.02672311, 0.0415276 , 0.00800255, 0.06191115],\n",
              "       [0.8618357 , 0.02672311, 0.0415276 , 0.00800255, 0.06191115],\n",
              "       ...,\n",
              "       [0.8618356 , 0.0267231 , 0.0415276 , 0.00800255, 0.06191115],\n",
              "       [0.8618356 , 0.0267231 , 0.0415276 , 0.00800255, 0.06191115],\n",
              "       [0.8618356 , 0.0267231 , 0.0415276 , 0.00800255, 0.06191115]],\n",
              "      dtype=float32)"
            ]
          },
          "metadata": {},
          "execution_count": 99
        }
      ]
    },
    {
      "cell_type": "code",
      "source": [
        "#labels_test = np.argmax(y_test)\n"
      ],
      "metadata": {
        "id": "lwAz2wyS1hCR"
      },
      "execution_count": 90,
      "outputs": []
    },
    {
      "cell_type": "code",
      "source": [
        "pred_test = np.argmax(y_pred_class, axis= -1)\n",
        "#np.argmax(y_pred1,axis=1)"
      ],
      "metadata": {
        "id": "m0hc-yIq1m8L"
      },
      "execution_count": 101,
      "outputs": []
    },
    {
      "cell_type": "code",
      "source": [
        "pred_test"
      ],
      "metadata": {
        "colab": {
          "base_uri": "https://localhost:8080/"
        },
        "id": "OfQbNoIMWTwJ",
        "outputId": "f11e68b8-e006-44f9-c286-2c74c23f33bc"
      },
      "execution_count": 102,
      "outputs": [
        {
          "output_type": "execute_result",
          "data": {
            "text/plain": [
              "array([0, 0, 0, ..., 0, 0, 0])"
            ]
          },
          "metadata": {},
          "execution_count": 102
        }
      ]
    },
    {
      "cell_type": "code",
      "source": [
        "from sklearn.metrics import confusion_matrix\n",
        "confusion_matrix(y_test, pred_test)"
      ],
      "metadata": {
        "colab": {
          "base_uri": "https://localhost:8080/"
        },
        "id": "TPLpbuw40pzX",
        "outputId": "faf03828-9fc1-4613-9370-3af77abfd64d"
      },
      "execution_count": 103,
      "outputs": [
        {
          "output_type": "execute_result",
          "data": {
            "text/plain": [
              "array([[2405,    0,    0,    0,    0],\n",
              "       [  75,    0,    0,    0,    0],\n",
              "       [ 119,    0,    0,    0,    0],\n",
              "       [  22,    0,    0,    0,    0],\n",
              "       [ 172,    0,    0,    0,    0]])"
            ]
          },
          "metadata": {},
          "execution_count": 103
        }
      ]
    },
    {
      "cell_type": "code",
      "source": [],
      "metadata": {
        "id": "tUWFsLyJ07Um"
      },
      "execution_count": null,
      "outputs": []
    }
  ]
}